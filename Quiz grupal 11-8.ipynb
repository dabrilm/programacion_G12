{
  "nbformat": 4,
  "nbformat_minor": 0,
  "metadata": {
    "colab": {
      "provenance": [],
      "include_colab_link": true
    },
    "kernelspec": {
      "name": "python3",
      "display_name": "Python 3"
    },
    "language_info": {
      "name": "python"
    }
  },
  "cells": [
    {
      "cell_type": "markdown",
      "metadata": {
        "id": "view-in-github",
        "colab_type": "text"
      },
      "source": [
        "<a href=\"https://colab.research.google.com/github/dabrilm/programacion_G12/blob/main/Quiz%20grupal%2011-8.ipynb\" target=\"_parent\"><img src=\"https://colab.research.google.com/assets/colab-badge.svg\" alt=\"Open In Colab\"/></a>"
      ]
    },
    {
      "cell_type": "code",
      "execution_count": null,
      "metadata": {
        "colab": {
          "base_uri": "https://localhost:8080/",
          "height": 255
        },
        "id": "G1XYnwUmxejg",
        "outputId": "3d233fdc-5ec3-4889-e9fd-b7935b97e6dd"
      },
      "outputs": [
        {
          "output_type": "stream",
          "name": "stdout",
          "text": [
            "[[{'$id': '2', 'NombreCompleto': 'Reinhard Dlugay'}], [{'$id': '4', 'NombreCompleto': 'Beatriz Hernández Bravo'}], [{'$id': '6', 'NombreCompleto': 'Marie-Morgane Le Folgoc'}], [{'$id': '8', 'NombreCompleto': 'María Luisa Capón Mouriz'}], [{'$id': '10', 'NombreCompleto': 'María Luisa Capón Mouriz'}, {'$id': '11', 'NombreCompleto': 'Richard James Murison'}, {'$id': '12', 'NombreCompleto': 'María Isabel Rodríguez Rodríguez'}, {'$id': '13', 'NombreCompleto': 'Beatriz Freire Betancor'}, {'$id': '14', 'NombreCompleto': 'Peggy Gerd Henriksson Carlsson'}, {'$id': '15', 'NombreCompleto': 'Eva Miriam Amaral Ribeiro Sampaio de Andrade'}, {'$id': '16', 'NombreCompleto': 'Marta María González Orta'}], [{'$id': '18', 'NombreCompleto': 'Clive Tyrell'}], [{'$id': '20', 'NombreCompleto': 'Nicola Cataldo'}]]\n"
          ]
        },
        {
          "output_type": "error",
          "ename": "TypeError",
          "evalue": "ignored",
          "traceback": [
            "\u001b[0;31m---------------------------------------------------------------------------\u001b[0m",
            "\u001b[0;31mTypeError\u001b[0m                                 Traceback (most recent call last)",
            "\u001b[0;32m<ipython-input-33-aa273355d83b>\u001b[0m in \u001b[0;36m<module>\u001b[0;34m\u001b[0m\n\u001b[1;32m     27\u001b[0m \u001b[0mprint\u001b[0m\u001b[0;34m(\u001b[0m\u001b[0mprofesores\u001b[0m\u001b[0;34m)\u001b[0m\u001b[0;34m\u001b[0m\u001b[0;34m\u001b[0m\u001b[0m\n\u001b[1;32m     28\u001b[0m \u001b[0;32mfor\u001b[0m \u001b[0mi\u001b[0m \u001b[0;32min\u001b[0m \u001b[0mprofesores\u001b[0m\u001b[0;34m:\u001b[0m\u001b[0;34m\u001b[0m\u001b[0;34m\u001b[0m\u001b[0m\n\u001b[0;32m---> 29\u001b[0;31m   \u001b[0;32mfor\u001b[0m \u001b[0mj\u001b[0m \u001b[0;32min\u001b[0m \u001b[0mprofesores\u001b[0m\u001b[0;34m[\u001b[0m\u001b[0mi\u001b[0m\u001b[0;34m]\u001b[0m\u001b[0;34m:\u001b[0m\u001b[0;34m\u001b[0m\u001b[0;34m\u001b[0m\u001b[0m\n\u001b[0m\u001b[1;32m     30\u001b[0m     \u001b[0mprint\u001b[0m\u001b[0;34m(\u001b[0m\u001b[0mprofesores\u001b[0m\u001b[0;34m[\u001b[0m\u001b[0mi\u001b[0m\u001b[0;34m]\u001b[0m\u001b[0;34m[\u001b[0m\u001b[0;34m'$id'\u001b[0m\u001b[0;34m]\u001b[0m\u001b[0;34m)\u001b[0m\u001b[0;34m\u001b[0m\u001b[0;34m\u001b[0m\u001b[0m\n",
            "\u001b[0;31mTypeError\u001b[0m: list indices must be integers or slices, not list"
          ]
        }
      ],
      "source": [
        "import json\n",
        "import requests\n",
        "from pprint import pprint\n",
        "i=0\n",
        "hor=[]\n",
        "id=[]\n",
        "operacion=[]\n",
        "formacion=[]\n",
        "url=[]\n",
        "profesores=[]\n",
        "dic={}\n",
        "dic1={}\n",
        "dic2={}\n",
        "response=requests.get(\"https://fp.josedomingo.org/lmgs/u05/ej2.json\")\n",
        "pendientes=json.loads(response.text)\n",
        "#pprint(pendientes)\n",
        "#print(len(pendientes)) len=7\n",
        "cantidad=len(pendientes)\n",
        "while i<len(pendientes):\n",
        "  hor.append(pendientes[i]['Horas'])\n",
        "  operacion.append(pendientes[i]['Titulo'])\n",
        "  id.append(pendientes[i]['$id'])\n",
        "  formacion.append(pendientes[i]['TipoFormacion'])\n",
        "  url.append(pendientes[i]['URL'])\n",
        "  profesores.append(pendientes[i]['Profesorado'])\n",
        "  i+=1\n",
        "print(id)\n",
        "print(operacion)\n",
        "a=list(zip(hor, operacion))\n",
        "b=list(zip(formacion,url))\n",
        "print(a)\n",
        "for i in range (0,len(pendientes),1):\n",
        "  if a[i][0]>2:\n",
        "    dic[id[i]]=a[i][1]\n",
        "  if b[i][0]=='No Presencial' or b[i][0]=='NoPresencial':\n",
        "    dic1[id[i]]=b[i][1]\n",
        "\n",
        "print(dic)      \n",
        "print(dic1)\n",
        "\n",
        "''' print(profesores)\n",
        "for i in profesores:\n",
        "  for j in range (profesores[i],:\n",
        "    print(profesores[i]['$id']) '''"
      ]
    }
  ]
}