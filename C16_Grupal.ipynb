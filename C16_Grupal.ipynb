{
  "nbformat": 4,
  "nbformat_minor": 0,
  "metadata": {
    "colab": {
      "provenance": [],
      "collapsed_sections": []
    },
    "kernelspec": {
      "name": "python3",
      "display_name": "Python 3"
    },
    "language_info": {
      "name": "python"
    }
  },
  "cells": [
    {
      "cell_type": "code",
      "execution_count": null,
      "metadata": {
        "id": "9vJKwQJ5olkd"
      },
      "outputs": [],
      "source": [
        "diccionario={}\n",
        "nombre=input('Indique su nombre')\n",
        "diccionario['nom']=nombre\n",
        "edad=int(input('Indique su edad'))\n",
        "diccionario['ed']=edad\n",
        "direccion=input('Indique su direccion')\n",
        "diccionario['direc']=direccion\n",
        "telefono=int(input('Indique su telefono'))\n",
        "diccionario['tel']=telefono\n",
        "print(diccionario.get('nom')+' ' +'tiene'+ ' ' +str(diccionario.get('ed'))+' '+'años,'+' '+'vive en'+' ' +diccionario.get('direc')+' ' +'y su numero de telefono es'+' ' +str(diccionario.get('tel')))\n"
      ]
    },
    {
      "cell_type": "code",
      "source": [
        "from datetime import datetime\n",
        "fecha=input('ingrese fecha de hoy en formato dd/mm/AAAA')\n",
        "fecha2=datetime.strptime(fecha, '%d/%m/%Y')\n",
        "fechan=input('ingrese fecha de nacimiento en formato dd/mm/AAAA')\n",
        "fecha3=datetime.strptime(fechan, '%d/%m/%Y')\n",
        "total=(fecha2-fecha3).days\n",
        "print(total) "
      ],
      "metadata": {
        "id": "TjSwl-v1sIOB"
      },
      "execution_count": null,
      "outputs": []
    },
    {
      "cell_type": "code",
      "source": [
        "dic1={}\n",
        "dic2={}\n",
        "d=0\n",
        "c=True\n",
        "while c:\n",
        "  opcion=int(input('opcion 2 salir 1 agregar'))\n",
        "  if opcion == 1:\n",
        "    a=input('Color favorito')\n",
        "    b=input('Comida favorita')\n",
        "    c=input('Cancion preferida')\n",
        "\n",
        "    dic2['Dato1']=a\n",
        "    dic2['Dato2']=b\n",
        "    dic2['Dato3']=c\n",
        "\n",
        "    dic1[d]=dic2\n",
        "    dic2={}\n",
        "    d+=1\n",
        "  else:\n",
        "    c=False\n",
        "\n",
        "print(dic1)\n",
        "ma=max(dic1)\n",
        "mn=min(dic1)\n",
        "print('maximo es', dic1.get(ma),'minimo es', dic1.get(mn))     \n",
        "  "
      ],
      "metadata": {
        "id": "p4e0asydwSkz"
      },
      "execution_count": null,
      "outputs": []
    }
  ]
}